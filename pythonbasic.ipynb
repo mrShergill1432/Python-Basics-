{
  "nbformat": 4,
  "nbformat_minor": 0,
  "metadata": {
    "colab": {
      "provenance": []
    },
    "kernelspec": {
      "name": "python3",
      "display_name": "Python 3"
    },
    "language_info": {
      "name": "python"
    }
  },
  "cells": [
    {
      "cell_type": "markdown",
      "source": [],
      "metadata": {
        "id": "ACOtRGqIlEzc"
      }
    },
    {
      "cell_type": "markdown",
      "source": [
        "# Python Basics Questions\n",
        "\n"
      ],
      "metadata": {
        "id": "eOWKs2VWlcur"
      }
    },
    {
      "cell_type": "markdown",
      "source": [
        "#1. What is Python, and why is it popular\n",
        "\n",
        "Ans- Python is a high level,interpreted programming language known for its\n",
        "     simplicity and readability.\n",
        "- it was developed by Guido van Rossum and first released in 1991.\n",
        " python is clean and easy-to-learn syntax makes it an excellent choice for beginners and experienced developers alike.\n",
        "\n",
        "# Why is python so popular?\n",
        "- Easy to learn and use\n",
        "- Interpreted language\n",
        "- Versatile and multi-purpose\n",
        "- Rich libraries and Frameworks\n",
        "- Large Community Support\n",
        "- Cross-Platform Compatibility\n",
        "- Demand in Industry Because of these reason, python remains onr of the\n",
        " most popular programming language today.\n",
        "\n",
        "#2. What is an interpreter in Python?\n",
        "\n",
        "Ans :- A python interpreter is a program that execute Python code.  \n",
        "       it reads Python scripts line by linr and converts them into machine code that the computer can understand.\n",
        "\n",
        "#3. What are pre-defined keywords in Python?\n",
        "\n",
        " Ans :-  Pre-defined keywords in Pythons are reserved words that have\n",
        "        special meanings and cannot be used as variable names ,function names,or identifiers.\n",
        "       They are part of the Python Language Syntex and help in defining the structure of the code.\n",
        "     1. Control flow keywords:\n",
        "     - if,elif,else-used for conditional statements.\n",
        "     - for,while-used for loops.\n",
        "     - break,continue-control loop execution.\n",
        "     - pass-A placeholder statement(does nothing). 2.Function $ Class\n",
        "       Keybords:\n",
        "     - def-Defines a function.\n",
        "     - return-Returns a value from a function.\n",
        "     - class-Defines a class.\n",
        "     - lambda-Defines an anonymous function. 3.Exception handling\n",
        "       Keybords:\n",
        "     - try,except,finally-handle error and exception\n",
        "     - raise-raise an exception.\n",
        "     - assert-Used for debugging 4.Boolean and Logical Operator:\n",
        "       true,false-Boolean values.  \n",
        "     - and,or,not-Logical operators.\n",
        "     - is,in-for identify 5.variable Scope and Importinf:\n",
        "     - global,nonlocal\n",
        "     - import,form,as 6.Object and Memory Management:\n",
        "     - del-deletsobject and variable.\n",
        "     - None-represent \"nothing\" or null value.\n",
        "\n",
        "       \n",
        "#4. Can keywords be used as variable names?\n",
        "\n",
        "  Ans :- No keywords can't be used as varible names in python. Keywords are special reserved words that are part of python's syntax and structure . if you try to use a keywords as a variable name, you will get a syntax error.\n",
        "\n",
        "#5. What is mutability in Python?\n",
        "\n",
        "Ans :- Mutability in Python refers to whether an object can be modified\n",
        "      after creation or not.\n",
        "   - Mutable objects-cab be changed after creation.\n",
        "   - Immutable objects-can't be changed after creation.\n",
        "\n",
        "#6. Why are lists mutable, but tuples are immutable?\n",
        "\n",
        "Ans :- List are mutable because they are designed to be flexible and allow for dynamic changes. Lists are often used when you need to perform operations like adding,removing,or updating elements frequently.But Tuple are meant to be used for fixed collection of items that shouldn't chgange.\n",
        "\n",
        "#7. What is the difference between “==” and “is” operators in Python?\n",
        "\n",
        "Ans :- \"==\"-Check whether two object have the same value,regardless of memory location. \"is\"-check if two variable point to the same object in memory.\n",
        "\n",
        "#8. What are logical operators in Python?\n",
        "\n",
        "Ans :- Logical operators in python are keywords that evaluate conditions and combine them into a single expression. They are also called as boolean operators because they convert operands to boolean values. There are three types of logical operators\n",
        "- and\n",
        "- or\n",
        "- not\n",
        "\n",
        "#9. What is type casting in Python?\n",
        "\n",
        "Ans :- Type casting,also known as type conversion>>the process of changing a variable's data type into another data type. This conversions can be-\n",
        "\n",
        "- implicit\n",
        "- explicit\n",
        "\n",
        "#10. What is the difference between implicit and explicit type casting?\n",
        "\n",
        "Ans :- In implicit type casting, the programming language automatically converts data from one type to another if needed. For example-if you have an integer variable and you try to assign it to a float variable, the programming language will automatically convert the integer to a float without you having to do anything.But In explicit type casting, also known as type conversion or type coercion, occurs when the programmer explicitly converts a value from one data type to another. Unlike implicit type casting, explicit type casting requires the programmer to specify the desired data type conversion.\n",
        "\n",
        "#11. What is the purpose of conditional statements in Python?\n",
        "\n",
        "Ans :- Conditional statements in Python are used to execute specific blocks of code based on the truth value of a condition. They allow the program to make decisions and control the flow of execution, enabling different outcomes depending on whether a condition is true or false.\n",
        "\n",
        "#12. How does the elif statement work?\n",
        "\n",
        "Ans :- Elif statements is used to check for multiple conditions in a sequence. It allows you to test a series of conditions one after another until a condition is true. Once a condition is met, the corresponding block of code is executed, and the rest of the conditions are not checked.\n",
        "\n",
        "#13. What is the difference between for and while loops?\n",
        "\n",
        "Ans := While loop is repeatedly execute a block of code untile a condition is met.But For loop is iterate over a sequence of element>> such as iterating over a sequence like a list or tuple.\n",
        "\n",
        "#14. Describe a scenario where a while loop is more suitable than a for loop?\n",
        "\n",
        "Ans :=  A while loop is more suitable than a for loop in scenarios where the number of iterations is not known in advance or depends on a condition that needs to be met. For example, consider the task of counting down from 100 until a prime number is found. In this situation, the number of iterations is not known beforehand, and the loop continues until a specific condition (finding a prime number) is met.\n",
        "\n",
        "# Practical Questions\n",
        "\n",
        "\n",
        "\n"
      ],
      "metadata": {
        "id": "tEDhrLI7mCAo"
      }
    },
    {
      "cell_type": "markdown",
      "source": [
        "#1. Write a Python program to print \"Hello, World!\""
      ],
      "metadata": {
        "id": "RkB2LZOwvLzb"
      }
    },
    {
      "cell_type": "code",
      "source": [
        "print(\"Hello,World!\")\n"
      ],
      "metadata": {
        "colab": {
          "base_uri": "https://localhost:8080/"
        },
        "id": "It3hXM8xucm7",
        "outputId": "28c3bf02-ff70-4bd0-f821-5e3d59a1d85c"
      },
      "execution_count": 1,
      "outputs": [
        {
          "output_type": "stream",
          "name": "stdout",
          "text": [
            "Hello,World!\n"
          ]
        }
      ]
    },
    {
      "cell_type": "markdown",
      "source": [
        "#2. Write a Python program that displays your name and age.\n"
      ],
      "metadata": {
        "id": "DeLsw8OKuoKi"
      }
    },
    {
      "cell_type": "code",
      "source": [
        "name=\"Anurag kumar\"\n",
        "age= 19\n",
        "print(\"my name is\",name)\n",
        "print(\"i am\",age,\"years old\")"
      ],
      "metadata": {
        "colab": {
          "base_uri": "https://localhost:8080/"
        },
        "id": "sEERSbtAutm3",
        "outputId": "ba41b0eb-4430-4f8a-eb24-a7f670f35c1b"
      },
      "execution_count": 3,
      "outputs": [
        {
          "output_type": "stream",
          "name": "stdout",
          "text": [
            "my name is Anurag kumar\n",
            "i am 19 years old\n"
          ]
        }
      ]
    },
    {
      "cell_type": "markdown",
      "source": [
        "#3. Write code to print all the pre-defined keywords in Python using the keyword library.\n"
      ],
      "metadata": {
        "id": "2dNeFwtnvSl-"
      }
    },
    {
      "cell_type": "code",
      "source": [
        "import keyword\n",
        "print(keyword.kwlist)"
      ],
      "metadata": {
        "colab": {
          "base_uri": "https://localhost:8080/"
        },
        "id": "Odz0vurVvaDo",
        "outputId": "4e34b274-375d-4f0a-baf5-6030b964bc2a"
      },
      "execution_count": 4,
      "outputs": [
        {
          "output_type": "stream",
          "name": "stdout",
          "text": [
            "['False', 'None', 'True', 'and', 'as', 'assert', 'async', 'await', 'break', 'class', 'continue', 'def', 'del', 'elif', 'else', 'except', 'finally', 'for', 'from', 'global', 'if', 'import', 'in', 'is', 'lambda', 'nonlocal', 'not', 'or', 'pass', 'raise', 'return', 'try', 'while', 'with', 'yield']\n"
          ]
        }
      ]
    },
    {
      "cell_type": "markdown",
      "source": [],
      "metadata": {
        "id": "oqjkeeigu6D7"
      }
    },
    {
      "cell_type": "markdown",
      "source": [
        "#4. Write a program that checks if a given word is a Python keyword.\n"
      ],
      "metadata": {
        "id": "pZsfvjslvkMG"
      }
    },
    {
      "cell_type": "code",
      "source": [
        "import keyword\n",
        "def check_keyword(word):\n",
        "    if keyword.iskeyword(word):\n",
        "        print(f\"'{word}' is a Python keyword.\")\n",
        "    else:\n",
        "        print(f\"'{word}' is not a Python keyword.\")\n",
        "word = input(\"Enter a word to check if it's a Python keyword: \")\n",
        "check_keyword(word)"
      ],
      "metadata": {
        "colab": {
          "base_uri": "https://localhost:8080/"
        },
        "id": "ArXV-4Ptvqt1",
        "outputId": "4b5e72fc-481f-4fb8-b958-818996030b2c"
      },
      "execution_count": 5,
      "outputs": [
        {
          "output_type": "stream",
          "name": "stdout",
          "text": [
            "Enter a word to check if it's a Python keyword: true\n",
            "'true' is not a Python keyword.\n"
          ]
        }
      ]
    },
    {
      "cell_type": "markdown",
      "source": [
        "#5. Create a list and tuple in Python, and demonstrate how attempting to change an element works differently for each\n"
      ],
      "metadata": {
        "id": "eP8Yijziv27M"
      }
    },
    {
      "cell_type": "code",
      "source": [
        "my_list = [10, 20, 30]\n",
        "print(\"Original List:\", my_list)\n",
        "my_list[1] = 50\n",
        "print(\"Modified List:\", my_list)\n",
        "\n",
        "my_tuple = (10, 20, 30)\n",
        "print(\"\\nOriginal Tuple:\", my_tuple)\n",
        "\n",
        "try:\n",
        "    my_tuple[1] = 50\n",
        "except TypeError as e:\n",
        "    print(\"Error:\", e)\n"
      ],
      "metadata": {
        "colab": {
          "base_uri": "https://localhost:8080/"
        },
        "id": "kmeqINOXv_dY",
        "outputId": "8bc044b8-1807-46f2-dc0b-d9bf4936da5b"
      },
      "execution_count": 6,
      "outputs": [
        {
          "output_type": "stream",
          "name": "stdout",
          "text": [
            "Original List: [10, 20, 30]\n",
            "Modified List: [10, 50, 30]\n",
            "\n",
            "Original Tuple: (10, 20, 30)\n",
            "Error: 'tuple' object does not support item assignment\n"
          ]
        }
      ]
    },
    {
      "cell_type": "markdown",
      "source": [
        "#6. Write a function to demonstrate the behavior of mutable and immutable arguments.\n"
      ],
      "metadata": {
        "id": "3MZnQcGwwJzV"
      }
    },
    {
      "cell_type": "code",
      "source": [
        "def modify_arguments(mut_list, imm_number):\n",
        "\n",
        "    mut_list.append(100)\n",
        "    imm_number += 10\n",
        "\n",
        "    print(\"Inside Function - Mutable List:\", mut_list)\n",
        "    print(\"Inside Function - Immutable Number:\", imm_number)\n",
        "\n",
        "\n",
        "my_list = [1, 2, 3]\n",
        "my_number = 50\n",
        "\n",
        "print(\"Before Function Call - List:\", my_list)\n",
        "print(\"Before Function Call - Number:\", my_number)\n",
        "\n",
        "modify_arguments(my_list, my_number)\n",
        "\n",
        "print(\"\\nAfter Function Call - List:\", my_list)\n",
        "print(\"After Function Call - Number:\", my_number)"
      ],
      "metadata": {
        "colab": {
          "base_uri": "https://localhost:8080/"
        },
        "id": "AsNnEJJOwMwm",
        "outputId": "ebbd7ecb-a5cf-467b-a8d3-765c4edf7b50"
      },
      "execution_count": 7,
      "outputs": [
        {
          "output_type": "stream",
          "name": "stdout",
          "text": [
            "Before Function Call - List: [1, 2, 3]\n",
            "Before Function Call - Number: 50\n",
            "Inside Function - Mutable List: [1, 2, 3, 100]\n",
            "Inside Function - Immutable Number: 60\n",
            "\n",
            "After Function Call - List: [1, 2, 3, 100]\n",
            "After Function Call - Number: 50\n"
          ]
        }
      ]
    },
    {
      "cell_type": "markdown",
      "source": [
        "#7. Write a program that performs basic arithmetic operations on two user-input numbers."
      ],
      "metadata": {
        "id": "qXXb92cMwXEg"
      }
    },
    {
      "cell_type": "code",
      "source": [
        "def calculator(num1, num2, operator):\n",
        "    if operator == '+':\n",
        "        return num1 + num2\n",
        "    elif operator == '-':\n",
        "        return num1 - num2\n",
        "    elif operator == '*':\n",
        "        return num1 * num2\n",
        "    elif operator == '/':\n",
        "        if num2 != 0:\n",
        "            return num1 / num2\n",
        "        else:\n",
        "            return \"Error: Division by zero\"\n",
        "    else:\n",
        "        return \"Error: Invalid operator! Use +, -, *, / only.\"\n",
        "\n",
        "print(\"Welcome to my Calco World!\")\n",
        "\n",
        "try:\n",
        "    num1 = float(input(\"Enter the first number: \"))\n",
        "    operator = input(\"Enter the operator (+, -, *, /): \")\n",
        "    num2 = float(input(\"Enter the second number: \"))\n",
        "\n",
        "    result = calculator(num1, num2, operator)\n",
        "    print(f\"Result: {num1} {operator} {num2} = {result}\")\n",
        "\n",
        "except ValueError:\n",
        "    print(\"Error: Please enter valid numbers.\")\n"
      ],
      "metadata": {
        "colab": {
          "base_uri": "https://localhost:8080/"
        },
        "id": "ElqNKkKXwcJS",
        "outputId": "b0b8d33a-0513-45e3-f654-b02833255539"
      },
      "execution_count": 9,
      "outputs": [
        {
          "output_type": "stream",
          "name": "stdout",
          "text": [
            "Welcome to my Calco World!\n",
            "Enter the first number: 23\n",
            "Enter the operator (+, -, *, /): *\n",
            "Enter the second number: 2\n",
            "Result: 23.0 * 2.0 = 46.0\n"
          ]
        }
      ]
    },
    {
      "cell_type": "markdown",
      "source": [
        "#8. Write a program to demonstrate the use of logical operators."
      ],
      "metadata": {
        "id": "ZmPyLKnCws1F"
      }
    },
    {
      "cell_type": "code",
      "source": [
        "age = int(input(\"Enter your age: \"))\n",
        "has_id = input(\"Do you have an ID? (yes/no): \").strip().lower() == \"yes\"\n",
        "\n",
        "if age >= 18 and has_id:\n",
        "    print(\" You are eligible to vote!\")\n",
        "elif age >= 18 and not has_id:\n",
        "    print(\" You need an ID to vote.\")\n",
        "else:\n",
        "    print(\" You are not eligible to vote.\")\n",
        "\n",
        "a = True\n",
        "b = False\n",
        "\n",
        "print(\"\\nLogical Operators Examples:\")\n",
        "print(f\"True and False  → {a and b}\")  # False\n",
        "print(f\"True or False   → {a or b}\")   # True\n",
        "print(f\"not True        → {not a}\")    # False\n",
        "print(f\"not False       → {not b}\")    # True"
      ],
      "metadata": {
        "colab": {
          "base_uri": "https://localhost:8080/"
        },
        "id": "v_dNsy8ywxw4",
        "outputId": "be447b86-8a37-4e3b-f6b8-61f35c366ef6"
      },
      "execution_count": 10,
      "outputs": [
        {
          "output_type": "stream",
          "name": "stdout",
          "text": [
            "Enter your age: 17\n",
            "Do you have an ID? (yes/no): yes\n",
            " You are not eligible to vote.\n",
            "\n",
            "Logical Operators Examples:\n",
            "True and False  → False\n",
            "True or False   → True\n",
            "not True        → False\n",
            "not False       → True\n"
          ]
        }
      ]
    },
    {
      "cell_type": "markdown",
      "source": [
        "#9. Write a Python program to convert user input from string to integer, float, and boolean types."
      ],
      "metadata": {
        "id": "1iRVMgQ0w8cm"
      }
    },
    {
      "cell_type": "code",
      "source": [
        "user_input = input(\"Enter a value: \")\n",
        "\n",
        "try:\n",
        "    int_value = int(user_input)\n",
        "    print(f\"Integer Conversion: {int_value} (Type: {type(int_value)})\")\n",
        "except ValueError:\n",
        "    print(\" Cannot convert to Integer\")\n",
        "\n",
        "try:\n",
        "    float_value = float(user_input)\n",
        "    print(f\"Float Conversion: {float_value} (Type: {type(float_value)})\")\n",
        "except ValueError:\n",
        "    print(\" Cannot convert to Float\")\n",
        "\n",
        "bool_value = bool(user_input)\n",
        "print(f\"Boolean Conversion: {bool_value} (Type: {type(bool_value)})\")"
      ],
      "metadata": {
        "colab": {
          "base_uri": "https://localhost:8080/"
        },
        "id": "aZV6-RGvxCKU",
        "outputId": "5c51f1a8-8fb7-4756-9546-4f74d2f6481d"
      },
      "execution_count": 11,
      "outputs": [
        {
          "output_type": "stream",
          "name": "stdout",
          "text": [
            "Enter a value: 123\n",
            "Integer Conversion: 123 (Type: <class 'int'>)\n",
            "Float Conversion: 123.0 (Type: <class 'float'>)\n",
            "Boolean Conversion: True (Type: <class 'bool'>)\n"
          ]
        }
      ]
    },
    {
      "cell_type": "markdown",
      "source": [
        "10. Write code to demonstrate type casting with list elements."
      ],
      "metadata": {
        "id": "T5f4Lb4_xK4R"
      }
    },
    {
      "cell_type": "code",
      "source": [
        "str_list = [\"10\", \"20\", \"30\", \"40.5\", \"50.8\", \"\", \"0\"]\n",
        "\n",
        "try:\n",
        "    int_list = [int(x) for x in str_list if x.isdigit()]\n",
        "    print(f\"Integer List: {int_list} (Type: {type(int_list[0])})\")\n",
        "except ValueError:\n",
        "    print(\" Cannot convert all elements to integer\")\n",
        "\n",
        "try:\n",
        "    float_list = [float(x) for x in str_list if x]\n",
        "    print(f\"Float List: {float_list} (Type: {type(float_list[0])})\")\n",
        "except ValueError:\n",
        "    print(\" Cannot convert all elements to float\")\n",
        "\n",
        "bool_list = [bool(x) for x in str_list]\n",
        "print(f\"Boolean List: {bool_list} (Type: {type(bool_list[0])})\")"
      ],
      "metadata": {
        "colab": {
          "base_uri": "https://localhost:8080/"
        },
        "id": "YWmoEnI3xPKc",
        "outputId": "82181474-2ac3-4539-ee8c-d5d4a2f9523c"
      },
      "execution_count": 12,
      "outputs": [
        {
          "output_type": "stream",
          "name": "stdout",
          "text": [
            "Integer List: [10, 20, 30, 0] (Type: <class 'int'>)\n",
            "Float List: [10.0, 20.0, 30.0, 40.5, 50.8, 0.0] (Type: <class 'float'>)\n",
            "Boolean List: [True, True, True, True, True, False, True] (Type: <class 'bool'>)\n"
          ]
        }
      ]
    },
    {
      "cell_type": "markdown",
      "source": [
        "#11. Write a program that checks if a number is positive, negative, or zero"
      ],
      "metadata": {
        "id": "e91z7BBQxVg2"
      }
    },
    {
      "cell_type": "code",
      "source": [
        "num = float(input(\"Enter a number: \"))\n",
        "\n",
        "if num > 0:\n",
        "    print(f\"{num} is a Positive number.\")\n",
        "elif num < 0:\n",
        "    print(f\"{num} is a Negative number.\")\n",
        "else:\n",
        "    print(f\"{num} is Zero.\")"
      ],
      "metadata": {
        "colab": {
          "base_uri": "https://localhost:8080/"
        },
        "id": "HjCU89CZxajZ",
        "outputId": "a134e817-c518-4db1-d053-b8ab07bbdd4a"
      },
      "execution_count": 13,
      "outputs": [
        {
          "output_type": "stream",
          "name": "stdout",
          "text": [
            "Enter a number: 2.4\n",
            "2.4 is a Positive number.\n"
          ]
        }
      ]
    },
    {
      "cell_type": "markdown",
      "source": [
        "#12. Write a for loop to print numbers from 1 to 10."
      ],
      "metadata": {
        "id": "48u6AaBIxiYi"
      }
    },
    {
      "cell_type": "code",
      "source": [
        "for num in range(1, 11):\n",
        "    print(num)"
      ],
      "metadata": {
        "colab": {
          "base_uri": "https://localhost:8080/"
        },
        "id": "A-Gtsc42xmZa",
        "outputId": "dcc323ee-95e1-40ef-d778-960f16d89a5e"
      },
      "execution_count": 14,
      "outputs": [
        {
          "output_type": "stream",
          "name": "stdout",
          "text": [
            "1\n",
            "2\n",
            "3\n",
            "4\n",
            "5\n",
            "6\n",
            "7\n",
            "8\n",
            "9\n",
            "10\n"
          ]
        }
      ]
    },
    {
      "cell_type": "markdown",
      "source": [
        "#13. Write a Python program to find the sum of all even numbers between 1 and 50."
      ],
      "metadata": {
        "id": "G9zPcZAKxrYL"
      }
    },
    {
      "cell_type": "code",
      "source": [
        "even_sum = 0\n",
        "\n",
        "for num in range(2, 51, 2):\n",
        "    even_sum += num\n",
        "\n",
        "print(f\"Sum of all even numbers between 1 and 50: {even_sum}\")"
      ],
      "metadata": {
        "colab": {
          "base_uri": "https://localhost:8080/"
        },
        "id": "fNU_qfdmxw2W",
        "outputId": "f3058e56-0f1a-4ef8-9e57-4bfdf47c0284"
      },
      "execution_count": 15,
      "outputs": [
        {
          "output_type": "stream",
          "name": "stdout",
          "text": [
            "Sum of all even numbers between 1 and 50: 650\n"
          ]
        }
      ]
    },
    {
      "cell_type": "markdown",
      "source": [
        "#14. Write a program to reverse a string using a while loop."
      ],
      "metadata": {
        "id": "9LeDMjxKx1K8"
      }
    },
    {
      "cell_type": "code",
      "source": [
        "string = input(\"Enter a string: \")\n",
        "\n",
        "reversed_string = \"\"\n",
        "index = len(string) - 1\n",
        "\n",
        "while index >= 0:\n",
        "    reversed_string += string[index]\n",
        "    index -= 1\n",
        "\n",
        "print(f\"Reversed String: {reversed_string}\")"
      ],
      "metadata": {
        "colab": {
          "base_uri": "https://localhost:8080/"
        },
        "id": "gCpjuY8Zx5Vo",
        "outputId": "4c05a0ce-b5d7-423d-f838-57529ccec333"
      },
      "execution_count": 16,
      "outputs": [
        {
          "output_type": "stream",
          "name": "stdout",
          "text": [
            "Enter a string: ANUSHREYA\n",
            "Reversed String: AYERHSUNA\n"
          ]
        }
      ]
    },
    {
      "cell_type": "markdown",
      "source": [
        "#15. Write a Python program to calculate the factorial of a number provided by the user using a while loop"
      ],
      "metadata": {
        "id": "Yy_PmpozyEuD"
      }
    },
    {
      "cell_type": "code",
      "source": [
        "num = int(input(\"Enter a number: \"))\n",
        "\n",
        "factorial = 1\n",
        "i = num\n",
        "\n",
        "while i > 0:\n",
        "    factorial *= i\n",
        "    i -= 1\n",
        "\n",
        "print(f\"Factorial of {num} is {factorial}\")"
      ],
      "metadata": {
        "colab": {
          "base_uri": "https://localhost:8080/"
        },
        "id": "1LDVcuTZyJff",
        "outputId": "c6ae3830-098d-4e6e-af78-02ac718f9266"
      },
      "execution_count": 17,
      "outputs": [
        {
          "output_type": "stream",
          "name": "stdout",
          "text": [
            "Enter a number: 45\n",
            "Factorial of 45 is 119622220865480194561963161495657715064383733760000000000\n"
          ]
        }
      ]
    }
  ]
}